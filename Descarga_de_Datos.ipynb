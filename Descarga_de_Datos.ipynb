{
  "cells": [
    {
      "cell_type": "markdown",
      "metadata": {
        "id": "VZABy33tkC8n"
      },
      "source": [
        "## Importamos librerías"
      ]
    },
    {
      "cell_type": "code",
      "execution_count": 1,
      "metadata": {
        "id": "NAXb2d1tjiuf"
      },
      "outputs": [],
      "source": [
        "#Importamos librerías\n",
        "from pathlib import Path\n",
        "import pandas as pd"
      ]
    },
    {
      "cell_type": "markdown",
      "metadata": {
        "id": "lG3bAFv5kLbW"
      },
      "source": [
        "## Load Data"
      ]
    },
    {
      "cell_type": "code",
      "execution_count": 2,
      "metadata": {
        "colab": {
          "base_uri": "https://localhost:8080/"
        },
        "id": "M1U8iSIZkR_Z",
        "outputId": "dd03e394-cd80-41d0-f316-b9eb051839d7"
      },
      "outputs": [
        {
          "name": "stdout",
          "output_type": "stream",
          "text": [
            "<class 'pandas.core.frame.DataFrame'>\n",
            "RangeIndex: 57770 entries, 0 to 57769\n",
            "Data columns (total 28 columns):\n",
            " #   Column         Non-Null Count  Dtype  \n",
            "---  ------         --------------  -----  \n",
            " 0   Longtitude     44562 non-null  float64\n",
            " 1   data_source    57768 non-null  object \n",
            " 2   parquet        0 non-null      float64\n",
            " 3   BuildingArea   22866 non-null  float64\n",
            " 4   Type           57768 non-null  object \n",
            " 5   value          57768 non-null  float64\n",
            " 6   SellerG        57768 non-null  object \n",
            " 7   Distance       57766 non-null  float64\n",
            " 8   Landsize       38207 non-null  float64\n",
            " 9   Postcode       57766 non-null  float64\n",
            " 10  Car            43293 non-null  float64\n",
            " 11  Date           57768 non-null  object \n",
            " 12  Price          45189 non-null  float64\n",
            " 13  Bathroom       44143 non-null  float64\n",
            " 14  CouncilArea    57764 non-null  object \n",
            " 15  Rooms          57768 non-null  float64\n",
            " 16  Regionname     57764 non-null  object \n",
            " 17  Car            43293 non-null  float64\n",
            " 18  SellerG        57768 non-null  object \n",
            " 19  CouncilArea    57764 non-null  object \n",
            " 20  Address        57768 non-null  object \n",
            " 21  Method         57768 non-null  object \n",
            " 22  Propertycount  57764 non-null  float64\n",
            " 23  Bedroom2       44155 non-null  float64\n",
            " 24  Lattitude      44562 non-null  float64\n",
            " 25  YearBuilt      25843 non-null  float64\n",
            " 26  Suburb         57768 non-null  object \n",
            " 27  Bathroom       44143 non-null  float64\n",
            "dtypes: float64(17), object(11)\n",
            "memory usage: 12.3+ MB\n"
          ]
        }
      ],
      "source": [
        "url_data=\"https://raw.githubusercontent.com/JoseRZapata/Data_analysis_notebooks/refs/heads/main/data/datasets/Melbourne_housing_FULL_data.csv\"\n",
        "melbourne_df=pd.read_csv(url_data, low_memory=False)\n",
        "melbourne_df.info()"
      ]
    },
    {
      "cell_type": "code",
      "execution_count": 3,
      "metadata": {
        "colab": {
          "base_uri": "https://localhost:8080/",
          "height": 655
        },
        "id": "5KcaxDwVksmE",
        "outputId": "cd578f50-fa29-4d64-8fab-c5ef2f159f7c"
      },
      "outputs": [
        {
          "data": {
            "text/html": [
              "<div>\n",
              "<style scoped>\n",
              "    .dataframe tbody tr th:only-of-type {\n",
              "        vertical-align: middle;\n",
              "    }\n",
              "\n",
              "    .dataframe tbody tr th {\n",
              "        vertical-align: top;\n",
              "    }\n",
              "\n",
              "    .dataframe thead th {\n",
              "        text-align: right;\n",
              "    }\n",
              "</style>\n",
              "<table border=\"1\" class=\"dataframe\">\n",
              "  <thead>\n",
              "    <tr style=\"text-align: right;\">\n",
              "      <th></th>\n",
              "      <th>Longtitude</th>\n",
              "      <th>data_source</th>\n",
              "      <th>parquet</th>\n",
              "      <th>BuildingArea</th>\n",
              "      <th>Type</th>\n",
              "      <th>value</th>\n",
              "      <th>SellerG</th>\n",
              "      <th>Distance</th>\n",
              "      <th>Landsize</th>\n",
              "      <th>Postcode</th>\n",
              "      <th>...</th>\n",
              "      <th>SellerG</th>\n",
              "      <th>CouncilArea</th>\n",
              "      <th>Address</th>\n",
              "      <th>Method</th>\n",
              "      <th>Propertycount</th>\n",
              "      <th>Bedroom2</th>\n",
              "      <th>Lattitude</th>\n",
              "      <th>YearBuilt</th>\n",
              "      <th>Suburb</th>\n",
              "      <th>Bathroom</th>\n",
              "    </tr>\n",
              "  </thead>\n",
              "  <tbody>\n",
              "    <tr>\n",
              "      <th>33055</th>\n",
              "      <td>145.0991</td>\n",
              "      <td>unknown</td>\n",
              "      <td>NaN</td>\n",
              "      <td>NaN</td>\n",
              "      <td>h</td>\n",
              "      <td>128672.0</td>\n",
              "      <td>RT</td>\n",
              "      <td>11.7</td>\n",
              "      <td>665.0</td>\n",
              "      <td>3125.0</td>\n",
              "      <td>...</td>\n",
              "      <td>RT</td>\n",
              "      <td>Monash City Council</td>\n",
              "      <td>23 Iris St</td>\n",
              "      <td>S</td>\n",
              "      <td>5678.0</td>\n",
              "      <td>4.0</td>\n",
              "      <td>-37.84540</td>\n",
              "      <td>NaN</td>\n",
              "      <td>Burwood</td>\n",
              "      <td>3.0</td>\n",
              "    </tr>\n",
              "    <tr>\n",
              "      <th>16388</th>\n",
              "      <td>NaN</td>\n",
              "      <td>unknown</td>\n",
              "      <td>NaN</td>\n",
              "      <td>NaN</td>\n",
              "      <td>h</td>\n",
              "      <td>128672.0</td>\n",
              "      <td>FN</td>\n",
              "      <td>4.3</td>\n",
              "      <td>NaN</td>\n",
              "      <td>3032.0</td>\n",
              "      <td>...</td>\n",
              "      <td>FN</td>\n",
              "      <td>Maribyrnong City Council</td>\n",
              "      <td>13 Lakeside Cr</td>\n",
              "      <td>PI</td>\n",
              "      <td>4918.0</td>\n",
              "      <td>NaN</td>\n",
              "      <td>NaN</td>\n",
              "      <td>NaN</td>\n",
              "      <td>Maribyrnong</td>\n",
              "      <td>NaN</td>\n",
              "    </tr>\n",
              "    <tr>\n",
              "      <th>24413</th>\n",
              "      <td>145.0716</td>\n",
              "      <td>unknown</td>\n",
              "      <td>NaN</td>\n",
              "      <td>247.0</td>\n",
              "      <td>h</td>\n",
              "      <td>128672.0</td>\n",
              "      <td>Marshall</td>\n",
              "      <td>9.2</td>\n",
              "      <td>1070.0</td>\n",
              "      <td>3104.0</td>\n",
              "      <td>...</td>\n",
              "      <td>Marshall</td>\n",
              "      <td>Boroondara City Council</td>\n",
              "      <td>15 Moody St</td>\n",
              "      <td>S</td>\n",
              "      <td>7809.0</td>\n",
              "      <td>4.0</td>\n",
              "      <td>-37.79750</td>\n",
              "      <td>1992.0</td>\n",
              "      <td>Balwyn North</td>\n",
              "      <td>3.0</td>\n",
              "    </tr>\n",
              "    <tr>\n",
              "      <th>47089</th>\n",
              "      <td>NaN</td>\n",
              "      <td>unknown</td>\n",
              "      <td>NaN</td>\n",
              "      <td>NaN</td>\n",
              "      <td>h</td>\n",
              "      <td>128672.0</td>\n",
              "      <td>Barry</td>\n",
              "      <td>20.6</td>\n",
              "      <td>NaN</td>\n",
              "      <td>3064.0</td>\n",
              "      <td>...</td>\n",
              "      <td>Barry</td>\n",
              "      <td>Hume City Council</td>\n",
              "      <td>15 Brecon Nk</td>\n",
              "      <td>SN</td>\n",
              "      <td>15510.0</td>\n",
              "      <td>NaN</td>\n",
              "      <td>NaN</td>\n",
              "      <td>NaN</td>\n",
              "      <td>Craigieburn</td>\n",
              "      <td>NaN</td>\n",
              "    </tr>\n",
              "    <tr>\n",
              "      <th>34220</th>\n",
              "      <td>NaN</td>\n",
              "      <td>unknown</td>\n",
              "      <td>NaN</td>\n",
              "      <td>NaN</td>\n",
              "      <td>h</td>\n",
              "      <td>128672.0</td>\n",
              "      <td>Purplebricks</td>\n",
              "      <td>12.7</td>\n",
              "      <td>NaN</td>\n",
              "      <td>3085.0</td>\n",
              "      <td>...</td>\n",
              "      <td>Purplebricks</td>\n",
              "      <td>Banyule City Council</td>\n",
              "      <td>32 Chapman St</td>\n",
              "      <td>S</td>\n",
              "      <td>4168.0</td>\n",
              "      <td>NaN</td>\n",
              "      <td>NaN</td>\n",
              "      <td>NaN</td>\n",
              "      <td>MacLeod</td>\n",
              "      <td>NaN</td>\n",
              "    </tr>\n",
              "    <tr>\n",
              "      <th>42983</th>\n",
              "      <td>144.9825</td>\n",
              "      <td>unknown</td>\n",
              "      <td>NaN</td>\n",
              "      <td>69.0</td>\n",
              "      <td>u</td>\n",
              "      <td>128672.0</td>\n",
              "      <td>Buxton</td>\n",
              "      <td>6.1</td>\n",
              "      <td>0.0</td>\n",
              "      <td>3182.0</td>\n",
              "      <td>...</td>\n",
              "      <td>Buxton</td>\n",
              "      <td>Port Phillip City Council</td>\n",
              "      <td>10/1 St Kilda Rd</td>\n",
              "      <td>SP</td>\n",
              "      <td>13240.0</td>\n",
              "      <td>1.0</td>\n",
              "      <td>-37.85730</td>\n",
              "      <td>1995.0</td>\n",
              "      <td>St Kilda</td>\n",
              "      <td>1.0</td>\n",
              "    </tr>\n",
              "    <tr>\n",
              "      <th>42591</th>\n",
              "      <td>NaN</td>\n",
              "      <td>unknown</td>\n",
              "      <td>NaN</td>\n",
              "      <td>NaN</td>\n",
              "      <td>h</td>\n",
              "      <td>128672.0</td>\n",
              "      <td>Marshall</td>\n",
              "      <td>7.9</td>\n",
              "      <td>NaN</td>\n",
              "      <td>3103.0</td>\n",
              "      <td>...</td>\n",
              "      <td>Marshall</td>\n",
              "      <td>Boroondara City Council</td>\n",
              "      <td>2/99 Strabane Av</td>\n",
              "      <td>S</td>\n",
              "      <td>5682.0</td>\n",
              "      <td>NaN</td>\n",
              "      <td>NaN</td>\n",
              "      <td>NaN</td>\n",
              "      <td>Balwyn</td>\n",
              "      <td>NaN</td>\n",
              "    </tr>\n",
              "    <tr>\n",
              "      <th>6385</th>\n",
              "      <td>144.8913</td>\n",
              "      <td>unknown</td>\n",
              "      <td>NaN</td>\n",
              "      <td>NaN</td>\n",
              "      <td>h</td>\n",
              "      <td>128672.0</td>\n",
              "      <td>Williams</td>\n",
              "      <td>6.8</td>\n",
              "      <td>NaN</td>\n",
              "      <td>3016.0</td>\n",
              "      <td>...</td>\n",
              "      <td>Williams</td>\n",
              "      <td>Hobsons Bay City Council</td>\n",
              "      <td>202 Osborne St</td>\n",
              "      <td>S</td>\n",
              "      <td>6380.0</td>\n",
              "      <td>4.0</td>\n",
              "      <td>-37.86420</td>\n",
              "      <td>NaN</td>\n",
              "      <td>Williamstown</td>\n",
              "      <td>2.0</td>\n",
              "    </tr>\n",
              "    <tr>\n",
              "      <th>9509</th>\n",
              "      <td>145.0608</td>\n",
              "      <td>unknown</td>\n",
              "      <td>NaN</td>\n",
              "      <td>155.0</td>\n",
              "      <td>h</td>\n",
              "      <td>128672.0</td>\n",
              "      <td>Marshall</td>\n",
              "      <td>11.2</td>\n",
              "      <td>375.0</td>\n",
              "      <td>3145.0</td>\n",
              "      <td>...</td>\n",
              "      <td>Marshall</td>\n",
              "      <td>Stonnington City Council</td>\n",
              "      <td>1/380 Waverley Rd</td>\n",
              "      <td>S</td>\n",
              "      <td>8801.0</td>\n",
              "      <td>3.0</td>\n",
              "      <td>-37.87770</td>\n",
              "      <td>1920.0</td>\n",
              "      <td>Malvern East</td>\n",
              "      <td>2.0</td>\n",
              "    </tr>\n",
              "    <tr>\n",
              "      <th>18542</th>\n",
              "      <td>145.3298</td>\n",
              "      <td>unknown</td>\n",
              "      <td>NaN</td>\n",
              "      <td>104.0</td>\n",
              "      <td>h</td>\n",
              "      <td>128672.0</td>\n",
              "      <td>Fletchers</td>\n",
              "      <td>26.5</td>\n",
              "      <td>947.0</td>\n",
              "      <td>3138.0</td>\n",
              "      <td>...</td>\n",
              "      <td>Fletchers</td>\n",
              "      <td>Yarra Ranges Shire Council</td>\n",
              "      <td>32 Churchill Dr</td>\n",
              "      <td>SP</td>\n",
              "      <td>8280.0</td>\n",
              "      <td>3.0</td>\n",
              "      <td>-37.76517</td>\n",
              "      <td>1978.0</td>\n",
              "      <td>Mooroolbark</td>\n",
              "      <td>2.0</td>\n",
              "    </tr>\n",
              "  </tbody>\n",
              "</table>\n",
              "<p>10 rows × 28 columns</p>\n",
              "</div>"
            ],
            "text/plain": [
              "       Longtitude data_source  parquet  BuildingArea Type     value  \\\n",
              "33055    145.0991     unknown      NaN           NaN    h  128672.0   \n",
              "16388         NaN     unknown      NaN           NaN    h  128672.0   \n",
              "24413    145.0716     unknown      NaN         247.0    h  128672.0   \n",
              "47089         NaN     unknown      NaN           NaN    h  128672.0   \n",
              "34220         NaN     unknown      NaN           NaN    h  128672.0   \n",
              "42983    144.9825     unknown      NaN          69.0    u  128672.0   \n",
              "42591         NaN     unknown      NaN           NaN    h  128672.0   \n",
              "6385     144.8913     unknown      NaN           NaN    h  128672.0   \n",
              "9509     145.0608     unknown      NaN         155.0    h  128672.0   \n",
              "18542    145.3298     unknown      NaN         104.0    h  128672.0   \n",
              "\n",
              "            SellerG  Distance  Landsize  Postcode  ...      SellerG   \\\n",
              "33055            RT      11.7     665.0    3125.0  ...            RT   \n",
              "16388            FN       4.3       NaN    3032.0  ...            FN   \n",
              "24413      Marshall       9.2    1070.0    3104.0  ...      Marshall   \n",
              "47089         Barry      20.6       NaN    3064.0  ...         Barry   \n",
              "34220  Purplebricks      12.7       NaN    3085.0  ...  Purplebricks   \n",
              "42983        Buxton       6.1       0.0    3182.0  ...        Buxton   \n",
              "42591      Marshall       7.9       NaN    3103.0  ...      Marshall   \n",
              "6385       Williams       6.8       NaN    3016.0  ...      Williams   \n",
              "9509       Marshall      11.2     375.0    3145.0  ...      Marshall   \n",
              "18542     Fletchers      26.5     947.0    3138.0  ...     Fletchers   \n",
              "\n",
              "                      CouncilArea            Address  Method Propertycount  \\\n",
              "33055         Monash City Council         23 Iris St       S        5678.0   \n",
              "16388    Maribyrnong City Council     13 Lakeside Cr      PI        4918.0   \n",
              "24413     Boroondara City Council        15 Moody St       S        7809.0   \n",
              "47089           Hume City Council       15 Brecon Nk      SN       15510.0   \n",
              "34220        Banyule City Council      32 Chapman St       S        4168.0   \n",
              "42983   Port Phillip City Council   10/1 St Kilda Rd      SP       13240.0   \n",
              "42591     Boroondara City Council   2/99 Strabane Av       S        5682.0   \n",
              "6385     Hobsons Bay City Council     202 Osborne St       S        6380.0   \n",
              "9509     Stonnington City Council  1/380 Waverley Rd       S        8801.0   \n",
              "18542  Yarra Ranges Shire Council    32 Churchill Dr      SP        8280.0   \n",
              "\n",
              "       Bedroom2 Lattitude  YearBuilt        Suburb Bathroom   \n",
              "33055       4.0 -37.84540        NaN       Burwood       3.0  \n",
              "16388       NaN       NaN        NaN   Maribyrnong       NaN  \n",
              "24413       4.0 -37.79750     1992.0  Balwyn North       3.0  \n",
              "47089       NaN       NaN        NaN   Craigieburn       NaN  \n",
              "34220       NaN       NaN        NaN       MacLeod       NaN  \n",
              "42983       1.0 -37.85730     1995.0      St Kilda       1.0  \n",
              "42591       NaN       NaN        NaN        Balwyn       NaN  \n",
              "6385        4.0 -37.86420        NaN  Williamstown       2.0  \n",
              "9509        3.0 -37.87770     1920.0  Malvern East       2.0  \n",
              "18542       3.0 -37.76517     1978.0   Mooroolbark       2.0  \n",
              "\n",
              "[10 rows x 28 columns]"
            ]
          },
          "execution_count": 3,
          "metadata": {},
          "output_type": "execute_result"
        }
      ],
      "source": [
        "melbourne_df.sample(10)"
      ]
    },
    {
      "cell_type": "markdown",
      "metadata": {
        "id": "-IVEA61IlFnp"
      },
      "source": [
        "## Data Info"
      ]
    },
    {
      "cell_type": "code",
      "execution_count": 4,
      "metadata": {
        "colab": {
          "base_uri": "https://localhost:8080/"
        },
        "id": "p2IbEhGQlH3S",
        "outputId": "d869acf9-44d1-4867-cf18-1011819c83e7"
      },
      "outputs": [
        {
          "data": {
            "text/plain": [
              "Index(['Longtitude', 'data_source', 'parquet', 'BuildingArea', 'Type', 'value',\n",
              "       'SellerG', 'Distance', 'Landsize', 'Postcode', 'Car ', 'Date', 'Price',\n",
              "       'Bathroom', 'CouncilArea ', 'Rooms', 'Regionname', 'Car', 'SellerG ',\n",
              "       'CouncilArea', 'Address', 'Method', 'Propertycount', 'Bedroom2',\n",
              "       'Lattitude', 'YearBuilt', 'Suburb', 'Bathroom '],\n",
              "      dtype='object')"
            ]
          },
          "execution_count": 4,
          "metadata": {},
          "output_type": "execute_result"
        }
      ],
      "source": [
        "melbourne_df.columns"
      ]
    },
    {
      "cell_type": "code",
      "execution_count": 5,
      "metadata": {
        "id": "zEjUdxiAonrg"
      },
      "outputs": [],
      "source": [
        "columns_to_use=[\n",
        "    \"Longtitude\",\n",
        "    \"BuildingArea\",\n",
        "    \"Type\",\n",
        "    \"SellerG\",\n",
        "    \"Distance\",\n",
        "    \"Landsize\",\n",
        "    \"Postcode\",\n",
        "    \"Car\",\n",
        "    \"Date\",\n",
        "    \"Price\",\n",
        "    \"Bathroom\",\n",
        "    \"CouncilArea\",\n",
        "    \"Rooms\",\n",
        "    \"Regionname\",\n",
        "    \"Address\",\n",
        "    \"Method\",\n",
        "    \"Propertycount\",\n",
        "    \"Bedroom2\",\n",
        "    \"Lattitude\",\n",
        "    \"YearBuilt\",\n",
        "    \"Suburb\"\n",
        "]"
      ]
    },
    {
      "cell_type": "code",
      "execution_count": 6,
      "metadata": {
        "colab": {
          "base_uri": "https://localhost:8080/"
        },
        "id": "F2KkIarnvv2R",
        "outputId": "b8df7ceb-1c29-4995-8c85-f30b277f537a"
      },
      "outputs": [
        {
          "name": "stdout",
          "output_type": "stream",
          "text": [
            "<class 'pandas.core.frame.DataFrame'>\n",
            "RangeIndex: 57770 entries, 0 to 57769\n",
            "Data columns (total 21 columns):\n",
            " #   Column         Non-Null Count  Dtype  \n",
            "---  ------         --------------  -----  \n",
            " 0   Longtitude     44562 non-null  float64\n",
            " 1   BuildingArea   22866 non-null  float64\n",
            " 2   Type           57768 non-null  object \n",
            " 3   SellerG        57768 non-null  object \n",
            " 4   Distance       57766 non-null  float64\n",
            " 5   Landsize       38207 non-null  float64\n",
            " 6   Postcode       57766 non-null  float64\n",
            " 7   Date           57768 non-null  object \n",
            " 8   Price          45189 non-null  float64\n",
            " 9   Bathroom       44143 non-null  float64\n",
            " 10  Rooms          57768 non-null  float64\n",
            " 11  Regionname     57764 non-null  object \n",
            " 12  Car            43293 non-null  float64\n",
            " 13  CouncilArea    57764 non-null  object \n",
            " 14  Address        57768 non-null  object \n",
            " 15  Method         57768 non-null  object \n",
            " 16  Propertycount  57764 non-null  float64\n",
            " 17  Bedroom2       44155 non-null  float64\n",
            " 18  Lattitude      44562 non-null  float64\n",
            " 19  YearBuilt      25843 non-null  float64\n",
            " 20  Suburb         57768 non-null  object \n",
            "dtypes: float64(13), object(8)\n",
            "memory usage: 9.3+ MB\n"
          ]
        }
      ],
      "source": [
        "melbourne_final_df=pd.read_csv(url_data, low_memory=False, usecols=columns_to_use)\n",
        "melbourne_final_df.info()"
      ]
    },
    {
      "cell_type": "markdown",
      "metadata": {
        "id": "uuI5Nqf2wQkS"
      },
      "source": [
        "## Guardamos los datos"
      ]
    },
    {
      "cell_type": "code",
      "execution_count": 7,
      "metadata": {
        "id": "rcrHpfgGwVPK"
      },
      "outputs": [],
      "source": [
        "DATA_DIR = Path.cwd() / \"data/01_raw\"\n",
        "\n",
        "file_path = DATA_DIR / \"melbourne_raw.csv\"\n",
        "\n",
        "# Crea el directorio si no existe\n",
        "DATA_DIR.mkdir(parents=True, exist_ok=True)\n",
        "melbourne_final_df.to_csv(file_path, index=False)"
      ]
    },
    {
      "cell_type": "markdown",
      "metadata": {},
      "source": [
        "# Preguntas"
      ]
    },
    {
      "cell_type": "markdown",
      "metadata": {},
      "source": [
        "##### 1. ¿Cual es el objetivo del problema?\n",
        "\n",
        "Analizar y predecir el precio de las propiedades en Melbourne basado en sus características como lo son los el área construida, baños, habitaciones, etc...\n",
        "Puede servir también para identificar tendencias en el mercado de las casas en Melbourne, en general, el dataset ofrece información útil para tomar decisiones sobre sectores y casas en Melbourne.\n"
      ]
    },
    {
      "cell_type": "markdown",
      "metadata": {},
      "source": [
        "##### 2. ¿Cómo se usará su solución?\n"
      ]
    },
    {
      "cell_type": "markdown",
      "metadata": {},
      "source": [
        "##### 3. ¿Cuáles son las soluciones actuales (si las hay)?\n"
      ]
    },
    {
      "cell_type": "markdown",
      "metadata": {},
      "source": [
        "##### 4. ¿Cómo se debe enmarcar este problema (supervisado / no supervisado, en línea / fuera de línea, etc.)\n",
        "Aprendizaje supervisado. Ya que tenemos una variable de salida que sabemos que queremos predecir (price) y varias features de entrada que nos pueden ayudar a predecir la salida\n",
        "Fuera de línea. Los datos ya son preexistentes y se entrena el modelo y luego se aplica la predicción"
      ]
    },
    {
      "cell_type": "markdown",
      "metadata": {},
      "source": [
        "##### 5. ¿Cómo se debe medir el desempeño o el rendimiento de la solución, una primera intuicion?\n",
        "Al ser un modelo de regresión, se puede medir con MSE; RMSE Y R2"
      ]
    },
    {
      "cell_type": "markdown",
      "metadata": {},
      "source": [
        "##### 6. ¿La medida de desempeño está alineada con el objetivo del problema?\n",
        "\n",
        "RMSE, nos indica la distancia promedio entre los valores reales vs predichos (comparación) y cuanto menor sea, mejor se ajusta\n",
        "R2, nos indica el buen ajuste del modelo a la variable que intentamos predecir"
      ]
    },
    {
      "cell_type": "markdown",
      "metadata": {},
      "source": [
        "##### 7. ¿Cuál sería el desempeño o rendimiento mínimo necesario para alcanzar el objetivo del problema?\n"
      ]
    },
    {
      "cell_type": "markdown",
      "metadata": {},
      "source": [
        "##### 8. ¿Cuáles son los problemas parecidos? ¿Se puede reutilizar experiencias o herramientas ya creadas?\n",
        "Ya existen problemas similares de otra ciudades e incluso países. Ej. Hay un desarrollo que predice el precio de las viviendas en el Oriente de Medellín, o el de california housing prices. \n",
        " Generalmente usan modelos de regresión linales, XGBOOST e incluso normalización"
      ]
    },
    {
      "cell_type": "markdown",
      "metadata": {},
      "source": [
        "##### 9. ¿Hay experiencia del problema disponible?\n"
      ]
    },
    {
      "cell_type": "markdown",
      "metadata": {},
      "source": [
        "##### 10. (Importante) ¿Cómo se puede resolver el problema manualmente?\n"
      ]
    },
    {
      "cell_type": "markdown",
      "metadata": {},
      "source": [
        "##### 11. Hacer un listado de los supuestos que hay hasta este momento.\n",
        "- Variables duplicadas con diferentes nombres en sus columnas\n",
        "- Variables irrelevantes como data_source y parquet\n",
        "- No veo variables que me indiquen un data leakage directo con la variable objetivo\n",
        "- Características suficientes que describen una propiedad y ayudan a predecir el precio\n",
        "- El precio de la propiedad debería ser correlacionado con las características"
      ]
    }
  ],
  "metadata": {
    "colab": {
      "provenance": [],
      "toc_visible": true
    },
    "kernelspec": {
      "display_name": ".venv",
      "language": "python",
      "name": "python3"
    },
    "language_info": {
      "codemirror_mode": {
        "name": "ipython",
        "version": 3
      },
      "file_extension": ".py",
      "mimetype": "text/x-python",
      "name": "python",
      "nbconvert_exporter": "python",
      "pygments_lexer": "ipython3",
      "version": "3.12.1"
    }
  },
  "nbformat": 4,
  "nbformat_minor": 0
}
