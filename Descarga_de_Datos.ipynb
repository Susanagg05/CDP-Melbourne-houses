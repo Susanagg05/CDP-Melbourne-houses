{
  "cells": [
    {
      "cell_type": "markdown",
      "metadata": {
        "id": "8oZmvRWdj6QP"
      },
      "source": [
        "# Descarga de datos"
      ]
    },
    {
      "cell_type": "markdown",
      "metadata": {
        "id": "VZABy33tkC8n"
      },
      "source": [
        "## Importamos librerías"
      ]
    },
    {
      "cell_type": "code",
      "execution_count": 1,
      "metadata": {
        "id": "NAXb2d1tjiuf"
      },
      "outputs": [],
      "source": [
        "#Importamos librerías\n",
        "from pathlib import Path\n",
        "import pandas as pd"
      ]
    },
    {
      "cell_type": "markdown",
      "metadata": {
        "id": "lG3bAFv5kLbW"
      },
      "source": [
        "## Load Data"
      ]
    },
    {
      "cell_type": "code",
      "execution_count": 2,
      "metadata": {
        "colab": {
          "base_uri": "https://localhost:8080/"
        },
        "id": "M1U8iSIZkR_Z",
        "outputId": "dd03e394-cd80-41d0-f316-b9eb051839d7"
      },
      "outputs": [
        {
          "name": "stdout",
          "output_type": "stream",
          "text": [
            "<class 'pandas.core.frame.DataFrame'>\n",
            "RangeIndex: 57770 entries, 0 to 57769\n",
            "Data columns (total 28 columns):\n",
            " #   Column         Non-Null Count  Dtype  \n",
            "---  ------         --------------  -----  \n",
            " 0   Longtitude     44562 non-null  float64\n",
            " 1   data_source    57768 non-null  object \n",
            " 2   parquet        0 non-null      float64\n",
            " 3   BuildingArea   22866 non-null  float64\n",
            " 4   Type           57768 non-null  object \n",
            " 5   value          57768 non-null  float64\n",
            " 6   SellerG        57768 non-null  object \n",
            " 7   Distance       57766 non-null  float64\n",
            " 8   Landsize       38207 non-null  float64\n",
            " 9   Postcode       57766 non-null  float64\n",
            " 10  Car            43293 non-null  float64\n",
            " 11  Date           57768 non-null  object \n",
            " 12  Price          45189 non-null  float64\n",
            " 13  Bathroom       44143 non-null  float64\n",
            " 14  CouncilArea    57764 non-null  object \n",
            " 15  Rooms          57768 non-null  float64\n",
            " 16  Regionname     57764 non-null  object \n",
            " 17  Car            43293 non-null  float64\n",
            " 18  SellerG        57768 non-null  object \n",
            " 19  CouncilArea    57764 non-null  object \n",
            " 20  Address        57768 non-null  object \n",
            " 21  Method         57768 non-null  object \n",
            " 22  Propertycount  57764 non-null  float64\n",
            " 23  Bedroom2       44155 non-null  float64\n",
            " 24  Lattitude      44562 non-null  float64\n",
            " 25  YearBuilt      25843 non-null  float64\n",
            " 26  Suburb         57768 non-null  object \n",
            " 27  Bathroom       44143 non-null  float64\n",
            "dtypes: float64(17), object(11)\n",
            "memory usage: 12.3+ MB\n"
          ]
        }
      ],
      "source": [
        "url_data=\"https://raw.githubusercontent.com/JoseRZapata/Data_analysis_notebooks/refs/heads/main/data/datasets/Melbourne_housing_FULL_data.csv\"\n",
        "melbourne_df=pd.read_csv(url_data, low_memory=False)\n",
        "melbourne_df.info()"
      ]
    },
    {
      "cell_type": "code",
      "execution_count": 3,
      "metadata": {
        "colab": {
          "base_uri": "https://localhost:8080/",
          "height": 655
        },
        "id": "5KcaxDwVksmE",
        "outputId": "cd578f50-fa29-4d64-8fab-c5ef2f159f7c"
      },
      "outputs": [
        {
          "data": {
            "text/html": [
              "<div>\n",
              "<style scoped>\n",
              "    .dataframe tbody tr th:only-of-type {\n",
              "        vertical-align: middle;\n",
              "    }\n",
              "\n",
              "    .dataframe tbody tr th {\n",
              "        vertical-align: top;\n",
              "    }\n",
              "\n",
              "    .dataframe thead th {\n",
              "        text-align: right;\n",
              "    }\n",
              "</style>\n",
              "<table border=\"1\" class=\"dataframe\">\n",
              "  <thead>\n",
              "    <tr style=\"text-align: right;\">\n",
              "      <th></th>\n",
              "      <th>Longtitude</th>\n",
              "      <th>data_source</th>\n",
              "      <th>parquet</th>\n",
              "      <th>BuildingArea</th>\n",
              "      <th>Type</th>\n",
              "      <th>value</th>\n",
              "      <th>SellerG</th>\n",
              "      <th>Distance</th>\n",
              "      <th>Landsize</th>\n",
              "      <th>Postcode</th>\n",
              "      <th>...</th>\n",
              "      <th>SellerG</th>\n",
              "      <th>CouncilArea</th>\n",
              "      <th>Address</th>\n",
              "      <th>Method</th>\n",
              "      <th>Propertycount</th>\n",
              "      <th>Bedroom2</th>\n",
              "      <th>Lattitude</th>\n",
              "      <th>YearBuilt</th>\n",
              "      <th>Suburb</th>\n",
              "      <th>Bathroom</th>\n",
              "    </tr>\n",
              "  </thead>\n",
              "  <tbody>\n",
              "    <tr>\n",
              "      <th>11805</th>\n",
              "      <td>144.87030</td>\n",
              "      <td>unknown</td>\n",
              "      <td>NaN</td>\n",
              "      <td>113.81</td>\n",
              "      <td>h</td>\n",
              "      <td>128672.0</td>\n",
              "      <td>Sweeney</td>\n",
              "      <td>8.2</td>\n",
              "      <td>401.0</td>\n",
              "      <td>3012.0</td>\n",
              "      <td>...</td>\n",
              "      <td>Sweeney</td>\n",
              "      <td>Maribyrnong City Council</td>\n",
              "      <td>91 Suffolk St</td>\n",
              "      <td>PI</td>\n",
              "      <td>5058.0</td>\n",
              "      <td>2.0</td>\n",
              "      <td>-37.79030</td>\n",
              "      <td>1945.0</td>\n",
              "      <td>West Footscray</td>\n",
              "      <td>1.0</td>\n",
              "    </tr>\n",
              "    <tr>\n",
              "      <th>53954</th>\n",
              "      <td>144.65608</td>\n",
              "      <td>unknown</td>\n",
              "      <td>NaN</td>\n",
              "      <td>163.00</td>\n",
              "      <td>h</td>\n",
              "      <td>128672.0</td>\n",
              "      <td>hockingstuart</td>\n",
              "      <td>14.7</td>\n",
              "      <td>720.0</td>\n",
              "      <td>3030.0</td>\n",
              "      <td>...</td>\n",
              "      <td>hockingstuart</td>\n",
              "      <td>Wyndham City Council</td>\n",
              "      <td>4 Albany Ct</td>\n",
              "      <td>S</td>\n",
              "      <td>16166.0</td>\n",
              "      <td>4.0</td>\n",
              "      <td>-37.87215</td>\n",
              "      <td>2001.0</td>\n",
              "      <td>Werribee</td>\n",
              "      <td>2.0</td>\n",
              "    </tr>\n",
              "    <tr>\n",
              "      <th>49216</th>\n",
              "      <td>NaN</td>\n",
              "      <td>unknown</td>\n",
              "      <td>NaN</td>\n",
              "      <td>NaN</td>\n",
              "      <td>u</td>\n",
              "      <td>128672.0</td>\n",
              "      <td>Buxton</td>\n",
              "      <td>3.5</td>\n",
              "      <td>NaN</td>\n",
              "      <td>3207.0</td>\n",
              "      <td>...</td>\n",
              "      <td>Buxton</td>\n",
              "      <td>Melbourne City Council</td>\n",
              "      <td>5/19 Boundary St</td>\n",
              "      <td>SP</td>\n",
              "      <td>8648.0</td>\n",
              "      <td>NaN</td>\n",
              "      <td>NaN</td>\n",
              "      <td>NaN</td>\n",
              "      <td>Port Melbourne</td>\n",
              "      <td>NaN</td>\n",
              "    </tr>\n",
              "    <tr>\n",
              "      <th>53218</th>\n",
              "      <td>144.89000</td>\n",
              "      <td>unknown</td>\n",
              "      <td>NaN</td>\n",
              "      <td>NaN</td>\n",
              "      <td>u</td>\n",
              "      <td>128672.0</td>\n",
              "      <td>Burnham</td>\n",
              "      <td>6.4</td>\n",
              "      <td>0.0</td>\n",
              "      <td>3011.0</td>\n",
              "      <td>...</td>\n",
              "      <td>Burnham</td>\n",
              "      <td>Maribyrnong City Council</td>\n",
              "      <td>202/51 Gordon St</td>\n",
              "      <td>PI</td>\n",
              "      <td>7570.0</td>\n",
              "      <td>1.0</td>\n",
              "      <td>-37.79110</td>\n",
              "      <td>2007.0</td>\n",
              "      <td>Footscray</td>\n",
              "      <td>1.0</td>\n",
              "    </tr>\n",
              "    <tr>\n",
              "      <th>14426</th>\n",
              "      <td>145.08478</td>\n",
              "      <td>unknown</td>\n",
              "      <td>NaN</td>\n",
              "      <td>233.00</td>\n",
              "      <td>t</td>\n",
              "      <td>128672.0</td>\n",
              "      <td>hockingstuart</td>\n",
              "      <td>21.5</td>\n",
              "      <td>304.0</td>\n",
              "      <td>3195.0</td>\n",
              "      <td>...</td>\n",
              "      <td>hockingstuart</td>\n",
              "      <td>Kingston City Council</td>\n",
              "      <td>9A Montgomery St</td>\n",
              "      <td>S</td>\n",
              "      <td>3650.0</td>\n",
              "      <td>3.0</td>\n",
              "      <td>-38.00644</td>\n",
              "      <td>2007.0</td>\n",
              "      <td>Mordialloc</td>\n",
              "      <td>2.0</td>\n",
              "    </tr>\n",
              "    <tr>\n",
              "      <th>56501</th>\n",
              "      <td>144.80330</td>\n",
              "      <td>unknown</td>\n",
              "      <td>NaN</td>\n",
              "      <td>125.00</td>\n",
              "      <td>h</td>\n",
              "      <td>128672.0</td>\n",
              "      <td>Bells</td>\n",
              "      <td>13.5</td>\n",
              "      <td>699.0</td>\n",
              "      <td>3020.0</td>\n",
              "      <td>...</td>\n",
              "      <td>Bells</td>\n",
              "      <td>Brimbank City Council</td>\n",
              "      <td>30 Hall St</td>\n",
              "      <td>S</td>\n",
              "      <td>6763.0</td>\n",
              "      <td>3.0</td>\n",
              "      <td>-37.79050</td>\n",
              "      <td>1960.0</td>\n",
              "      <td>Sunshine West</td>\n",
              "      <td>1.0</td>\n",
              "    </tr>\n",
              "    <tr>\n",
              "      <th>47836</th>\n",
              "      <td>145.03581</td>\n",
              "      <td>unknown</td>\n",
              "      <td>NaN</td>\n",
              "      <td>196.00</td>\n",
              "      <td>t</td>\n",
              "      <td>128672.0</td>\n",
              "      <td>Marshall</td>\n",
              "      <td>5.4</td>\n",
              "      <td>NaN</td>\n",
              "      <td>3101.0</td>\n",
              "      <td>...</td>\n",
              "      <td>Marshall</td>\n",
              "      <td>Boroondara City Council</td>\n",
              "      <td>8/8 Cobden St</td>\n",
              "      <td>VB</td>\n",
              "      <td>10331.0</td>\n",
              "      <td>3.0</td>\n",
              "      <td>-37.80436</td>\n",
              "      <td>2015.0</td>\n",
              "      <td>Kew</td>\n",
              "      <td>3.0</td>\n",
              "    </tr>\n",
              "    <tr>\n",
              "      <th>19117</th>\n",
              "      <td>144.98640</td>\n",
              "      <td>unknown</td>\n",
              "      <td>NaN</td>\n",
              "      <td>42.00</td>\n",
              "      <td>u</td>\n",
              "      <td>128672.0</td>\n",
              "      <td>Buxton</td>\n",
              "      <td>7.7</td>\n",
              "      <td>0.0</td>\n",
              "      <td>3184.0</td>\n",
              "      <td>...</td>\n",
              "      <td>Buxton</td>\n",
              "      <td>Port Phillip City Council</td>\n",
              "      <td>3/58 Byron St</td>\n",
              "      <td>SP</td>\n",
              "      <td>8989.0</td>\n",
              "      <td>1.0</td>\n",
              "      <td>-37.87840</td>\n",
              "      <td>1970.0</td>\n",
              "      <td>Elwood</td>\n",
              "      <td>1.0</td>\n",
              "    </tr>\n",
              "    <tr>\n",
              "      <th>8578</th>\n",
              "      <td>NaN</td>\n",
              "      <td>unknown</td>\n",
              "      <td>NaN</td>\n",
              "      <td>NaN</td>\n",
              "      <td>u</td>\n",
              "      <td>128672.0</td>\n",
              "      <td>hockingstuart</td>\n",
              "      <td>2.7</td>\n",
              "      <td>NaN</td>\n",
              "      <td>3141.0</td>\n",
              "      <td>...</td>\n",
              "      <td>hockingstuart</td>\n",
              "      <td>Melbourne City Council</td>\n",
              "      <td>7/36 Cromwell Rd</td>\n",
              "      <td>S</td>\n",
              "      <td>14887.0</td>\n",
              "      <td>NaN</td>\n",
              "      <td>NaN</td>\n",
              "      <td>NaN</td>\n",
              "      <td>South Yarra</td>\n",
              "      <td>NaN</td>\n",
              "    </tr>\n",
              "    <tr>\n",
              "      <th>52669</th>\n",
              "      <td>145.08610</td>\n",
              "      <td>unknown</td>\n",
              "      <td>NaN</td>\n",
              "      <td>126.00</td>\n",
              "      <td>h</td>\n",
              "      <td>128672.0</td>\n",
              "      <td>Thomson</td>\n",
              "      <td>11.2</td>\n",
              "      <td>645.0</td>\n",
              "      <td>3145.0</td>\n",
              "      <td>...</td>\n",
              "      <td>Thomson</td>\n",
              "      <td>Stonnington City Council</td>\n",
              "      <td>66 Argyll St</td>\n",
              "      <td>PI</td>\n",
              "      <td>8801.0</td>\n",
              "      <td>3.0</td>\n",
              "      <td>-37.87500</td>\n",
              "      <td>1960.0</td>\n",
              "      <td>Malvern East</td>\n",
              "      <td>1.0</td>\n",
              "    </tr>\n",
              "  </tbody>\n",
              "</table>\n",
              "<p>10 rows × 28 columns</p>\n",
              "</div>"
            ],
            "text/plain": [
              "       Longtitude data_source  parquet  BuildingArea Type     value  \\\n",
              "11805   144.87030     unknown      NaN        113.81    h  128672.0   \n",
              "53954   144.65608     unknown      NaN        163.00    h  128672.0   \n",
              "49216         NaN     unknown      NaN           NaN    u  128672.0   \n",
              "53218   144.89000     unknown      NaN           NaN    u  128672.0   \n",
              "14426   145.08478     unknown      NaN        233.00    t  128672.0   \n",
              "56501   144.80330     unknown      NaN        125.00    h  128672.0   \n",
              "47836   145.03581     unknown      NaN        196.00    t  128672.0   \n",
              "19117   144.98640     unknown      NaN         42.00    u  128672.0   \n",
              "8578          NaN     unknown      NaN           NaN    u  128672.0   \n",
              "52669   145.08610     unknown      NaN        126.00    h  128672.0   \n",
              "\n",
              "             SellerG  Distance  Landsize  Postcode  ...       SellerG   \\\n",
              "11805        Sweeney       8.2     401.0    3012.0  ...        Sweeney   \n",
              "53954  hockingstuart      14.7     720.0    3030.0  ...  hockingstuart   \n",
              "49216         Buxton       3.5       NaN    3207.0  ...         Buxton   \n",
              "53218        Burnham       6.4       0.0    3011.0  ...        Burnham   \n",
              "14426  hockingstuart      21.5     304.0    3195.0  ...  hockingstuart   \n",
              "56501          Bells      13.5     699.0    3020.0  ...          Bells   \n",
              "47836       Marshall       5.4       NaN    3101.0  ...       Marshall   \n",
              "19117         Buxton       7.7       0.0    3184.0  ...         Buxton   \n",
              "8578   hockingstuart       2.7       NaN    3141.0  ...  hockingstuart   \n",
              "52669        Thomson      11.2     645.0    3145.0  ...        Thomson   \n",
              "\n",
              "                     CouncilArea           Address  Method Propertycount  \\\n",
              "11805   Maribyrnong City Council     91 Suffolk St      PI        5058.0   \n",
              "53954       Wyndham City Council       4 Albany Ct       S       16166.0   \n",
              "49216     Melbourne City Council  5/19 Boundary St      SP        8648.0   \n",
              "53218   Maribyrnong City Council  202/51 Gordon St      PI        7570.0   \n",
              "14426      Kingston City Council  9A Montgomery St       S        3650.0   \n",
              "56501      Brimbank City Council        30 Hall St       S        6763.0   \n",
              "47836    Boroondara City Council     8/8 Cobden St      VB       10331.0   \n",
              "19117  Port Phillip City Council     3/58 Byron St      SP        8989.0   \n",
              "8578      Melbourne City Council  7/36 Cromwell Rd       S       14887.0   \n",
              "52669   Stonnington City Council      66 Argyll St      PI        8801.0   \n",
              "\n",
              "       Bedroom2 Lattitude  YearBuilt          Suburb Bathroom   \n",
              "11805       2.0 -37.79030     1945.0  West Footscray       1.0  \n",
              "53954       4.0 -37.87215     2001.0        Werribee       2.0  \n",
              "49216       NaN       NaN        NaN  Port Melbourne       NaN  \n",
              "53218       1.0 -37.79110     2007.0       Footscray       1.0  \n",
              "14426       3.0 -38.00644     2007.0      Mordialloc       2.0  \n",
              "56501       3.0 -37.79050     1960.0   Sunshine West       1.0  \n",
              "47836       3.0 -37.80436     2015.0             Kew       3.0  \n",
              "19117       1.0 -37.87840     1970.0          Elwood       1.0  \n",
              "8578        NaN       NaN        NaN     South Yarra       NaN  \n",
              "52669       3.0 -37.87500     1960.0    Malvern East       1.0  \n",
              "\n",
              "[10 rows x 28 columns]"
            ]
          },
          "execution_count": 3,
          "metadata": {},
          "output_type": "execute_result"
        }
      ],
      "source": [
        "melbourne_df.sample(10)"
      ]
    },
    {
      "cell_type": "markdown",
      "metadata": {
        "id": "-IVEA61IlFnp"
      },
      "source": [
        "## Data Info"
      ]
    },
    {
      "cell_type": "code",
      "execution_count": 4,
      "metadata": {
        "colab": {
          "base_uri": "https://localhost:8080/"
        },
        "id": "p2IbEhGQlH3S",
        "outputId": "d869acf9-44d1-4867-cf18-1011819c83e7"
      },
      "outputs": [
        {
          "data": {
            "text/plain": [
              "Index(['Longtitude', 'data_source', 'parquet', 'BuildingArea', 'Type', 'value',\n",
              "       'SellerG', 'Distance', 'Landsize', 'Postcode', 'Car ', 'Date', 'Price',\n",
              "       'Bathroom', 'CouncilArea ', 'Rooms', 'Regionname', 'Car', 'SellerG ',\n",
              "       'CouncilArea', 'Address', 'Method', 'Propertycount', 'Bedroom2',\n",
              "       'Lattitude', 'YearBuilt', 'Suburb', 'Bathroom '],\n",
              "      dtype='object')"
            ]
          },
          "execution_count": 4,
          "metadata": {},
          "output_type": "execute_result"
        }
      ],
      "source": [
        "melbourne_df.columns"
      ]
    },
    {
      "cell_type": "code",
      "execution_count": 5,
      "metadata": {
        "id": "zEjUdxiAonrg"
      },
      "outputs": [],
      "source": [
        "columns_to_use=[\n",
        "    \"Longtitude\",\n",
        "    \"BuildingArea\",\n",
        "    \"Type\",\n",
        "    \"SellerG\",\n",
        "    \"Distance\",\n",
        "    \"Landsize\",\n",
        "    \"Postcode\",\n",
        "    \"Car\",\n",
        "    \"Date\",\n",
        "    \"Price\",\n",
        "    \"Bathroom\",\n",
        "    \"CouncilArea\",\n",
        "    \"Rooms\",\n",
        "    \"Regionname\",\n",
        "    \"Address\",\n",
        "    \"Method\",\n",
        "    \"Propertycount\",\n",
        "    \"Bedroom2\",\n",
        "    \"Lattitude\",\n",
        "    \"YearBuilt\",\n",
        "    \"Suburb\"\n",
        "]"
      ]
    },
    {
      "cell_type": "code",
      "execution_count": 6,
      "metadata": {
        "colab": {
          "base_uri": "https://localhost:8080/"
        },
        "id": "F2KkIarnvv2R",
        "outputId": "b8df7ceb-1c29-4995-8c85-f30b277f537a"
      },
      "outputs": [
        {
          "name": "stdout",
          "output_type": "stream",
          "text": [
            "<class 'pandas.core.frame.DataFrame'>\n",
            "RangeIndex: 57770 entries, 0 to 57769\n",
            "Data columns (total 21 columns):\n",
            " #   Column         Non-Null Count  Dtype  \n",
            "---  ------         --------------  -----  \n",
            " 0   Longtitude     44562 non-null  float64\n",
            " 1   BuildingArea   22866 non-null  float64\n",
            " 2   Type           57768 non-null  object \n",
            " 3   SellerG        57768 non-null  object \n",
            " 4   Distance       57766 non-null  float64\n",
            " 5   Landsize       38207 non-null  float64\n",
            " 6   Postcode       57766 non-null  float64\n",
            " 7   Date           57768 non-null  object \n",
            " 8   Price          45189 non-null  float64\n",
            " 9   Bathroom       44143 non-null  float64\n",
            " 10  Rooms          57768 non-null  float64\n",
            " 11  Regionname     57764 non-null  object \n",
            " 12  Car            43293 non-null  float64\n",
            " 13  CouncilArea    57764 non-null  object \n",
            " 14  Address        57768 non-null  object \n",
            " 15  Method         57768 non-null  object \n",
            " 16  Propertycount  57764 non-null  float64\n",
            " 17  Bedroom2       44155 non-null  float64\n",
            " 18  Lattitude      44562 non-null  float64\n",
            " 19  YearBuilt      25843 non-null  float64\n",
            " 20  Suburb         57768 non-null  object \n",
            "dtypes: float64(13), object(8)\n",
            "memory usage: 9.3+ MB\n"
          ]
        }
      ],
      "source": [
        "melbourne_final_df=pd.read_csv(url_data, low_memory=False, usecols=columns_to_use)\n",
        "melbourne_final_df.info()"
      ]
    },
    {
      "cell_type": "markdown",
      "metadata": {
        "id": "uuI5Nqf2wQkS"
      },
      "source": [
        "## Guardamos los datos"
      ]
    },
    {
      "cell_type": "code",
      "execution_count": 7,
      "metadata": {
        "id": "rcrHpfgGwVPK"
      },
      "outputs": [],
      "source": [
        "Path.cwd().resolve().parents[0]  # Define el directorio y el archivo\n",
        "DATA_DIR = Path.cwd().resolve().parents[0] / \"data/01_raw\"\n",
        "\n",
        "file_path = DATA_DIR / \"melbourne_raw.csv\"\n",
        "\n",
        "# Crea el directorio si no existe\n",
        "DATA_DIR.mkdir(parents=True, exist_ok=True)\n",
        "melbourne_final_df.to_csv(file_path, index=False)"
      ]
    },
    {
      "cell_type": "markdown",
      "metadata": {},
      "source": [
        "# Preguntas"
      ]
    },
    {
      "cell_type": "markdown",
      "metadata": {},
      "source": [
        "##### 1. ¿Cual es el objetivo del problema?\n",
        "\n",
        "Analizar y predecir el precio de las propiedades en Melbourne basado en sus características como lo son los el área construida, baños, habitaciones, etc...\n",
        "Puede servir también para identificar tendencias en el mercado de las casas en Melbourne, en general, el dataset ofrece información útil para tomar decisiones sobre sectores y casas en Melbourne.\n"
      ]
    },
    {
      "cell_type": "markdown",
      "metadata": {},
      "source": [
        "##### 2. ¿Cómo se usará su solución?\n"
      ]
    },
    {
      "cell_type": "markdown",
      "metadata": {},
      "source": [
        "##### 3. ¿Cuáles son las soluciones actuales (si las hay)?\n"
      ]
    },
    {
      "cell_type": "markdown",
      "metadata": {},
      "source": [
        "##### 4. ¿Cómo se debe enmarcar este problema (supervisado / no supervisado, en línea / fuera de línea, etc.)\n",
        "Aprendizaje supervisado. Ya que tenemos una variable de salida que sabemos que queremos predecir (price) y varias features de entrada que nos pueden ayudar a predecir la salida\n",
        "Fuera de línea. Los datos ya son preexistentes y se entrena el modelo y luego se aplica la predicción"
      ]
    },
    {
      "cell_type": "markdown",
      "metadata": {},
      "source": [
        "##### 5. ¿Cómo se debe medir el desempeño o el rendimiento de la solución, una primera intuicion?\n",
        "Al ser un modelo de regresión, se puede medir con MSE; RMSE Y R2"
      ]
    },
    {
      "cell_type": "markdown",
      "metadata": {},
      "source": [
        "##### 6. ¿La medida de desempeño está alineada con el objetivo del problema?\n",
        "\n",
        "RMSE, nos indica la distancia promedio entre los valores reales vs predichos (comparación) y cuanto menor sea, mejor se ajusta\n",
        "R2, nos indica el buen ajuste del modelo a la variable que intentamos predecir"
      ]
    },
    {
      "cell_type": "markdown",
      "metadata": {},
      "source": [
        "##### 7. ¿Cuál sería el desempeño o rendimiento mínimo necesario para alcanzar el objetivo del problema?\n"
      ]
    },
    {
      "cell_type": "markdown",
      "metadata": {},
      "source": [
        "##### 8. ¿Cuáles son los problemas parecidos? ¿Se puede reutilizar experiencias o herramientas ya creadas?\n",
        "Ya existen problemas similares de otra ciudades e incluso países. Ej. Hay un desarrollo que predice el precio de las viviendas en el Oriente de Medellín, o el de california housing prices. \n",
        " Generalmente usan modelos de regresión linales, XGBOOST e incluso normalización"
      ]
    },
    {
      "cell_type": "markdown",
      "metadata": {},
      "source": [
        "##### 9. ¿Hay experiencia del problema disponible?\n"
      ]
    },
    {
      "cell_type": "markdown",
      "metadata": {},
      "source": [
        "##### 10. (Importante) ¿Cómo se puede resolver el problema manualmente?\n"
      ]
    },
    {
      "cell_type": "markdown",
      "metadata": {},
      "source": [
        "##### 11. Hacer un listado de los supuestos que hay hasta este momento.\n",
        "- Variables duplicadas con diferentes nombres en sus columnas\n",
        "- Variables irrelevantes como data_source y parquet\n",
        "- No veo variables que me indiquen un data leakage directo con la variable objetivo\n",
        "- Características suficientes que describen una propiedad y ayudan a predecir el precio\n",
        "- El precio de la propiedad debería ser correlacionado con las características"
      ]
    }
  ],
  "metadata": {
    "colab": {
      "provenance": [],
      "toc_visible": true
    },
    "kernelspec": {
      "display_name": "Python 3",
      "name": "python3"
    },
    "language_info": {
      "codemirror_mode": {
        "name": "ipython",
        "version": 3
      },
      "file_extension": ".py",
      "mimetype": "text/x-python",
      "name": "python",
      "nbconvert_exporter": "python",
      "pygments_lexer": "ipython3",
      "version": "3.12.1"
    }
  },
  "nbformat": 4,
  "nbformat_minor": 0
}
